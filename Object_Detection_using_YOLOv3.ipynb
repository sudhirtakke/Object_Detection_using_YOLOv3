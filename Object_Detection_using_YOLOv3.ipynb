{
  "nbformat": 4,
  "nbformat_minor": 0,
  "metadata": {
    "colab": {
      "name": "Object_Detection_using_YOLOv3.ipynb",
      "provenance": [],
      "collapsed_sections": [],
      "include_colab_link": true
    },
    "hide_input": false,
    "kernelspec": {
      "name": "python3",
      "display_name": "Python 3"
    },
    "language_info": {
      "codemirror_mode": {
        "name": "ipython",
        "version": 3
      },
      "file_extension": ".py",
      "mimetype": "text/x-python",
      "name": "python",
      "nbconvert_exporter": "python",
      "pygments_lexer": "ipython3",
      "version": "3.7.4"
    },
    "toc": {
      "base_numbering": 1,
      "nav_menu": {},
      "number_sections": false,
      "sideBar": true,
      "skip_h1_title": true,
      "title_cell": "Table of Contents",
      "title_sidebar": "Contents",
      "toc_cell": false,
      "toc_position": {},
      "toc_section_display": true,
      "toc_window_display": false
    },
    "varInspector": {
      "cols": {
        "lenName": 16,
        "lenType": 16,
        "lenVar": 40
      },
      "kernels_config": {
        "python": {
          "delete_cmd_postfix": "",
          "delete_cmd_prefix": "del ",
          "library": "var_list.py",
          "varRefreshCmd": "print(var_dic_list())"
        },
        "r": {
          "delete_cmd_postfix": ") ",
          "delete_cmd_prefix": "rm(",
          "library": "var_list.r",
          "varRefreshCmd": "cat(var_dic_list()) "
        }
      },
      "types_to_exclude": [
        "module",
        "function",
        "builtin_function_or_method",
        "instance",
        "_Feature"
      ],
      "window_display": false
    },
    "accelerator": "GPU"
  },
  "cells": [
    {
      "cell_type": "markdown",
      "metadata": {
        "id": "view-in-github",
        "colab_type": "text"
      },
      "source": [
        "<a href=\"https://colab.research.google.com/github/sudhirtakke/Object_Detection_using_YOLOv3/blob/main/Object_Detection_using_YOLOv3.ipynb\" target=\"_parent\"><img src=\"https://colab.research.google.com/assets/colab-badge.svg\" alt=\"Open In Colab\"/></a>"
      ]
    },
    {
      "cell_type": "markdown",
      "metadata": {
        "id": "HU-Rz_y4pGr3"
      },
      "source": [
        "# Object Dectection using YOLOv3"
      ]
    },
    {
      "cell_type": "markdown",
      "metadata": {
        "id": "qELVVAndBB3P"
      },
      "source": [
        "- The “**You Only Look Once**,” or YOLO, family of models are a series of end-to-end deep learning models designed for fast object detection.\n",
        "\n",
        "- The approach involves a single deep convolutional neural network (originally a version of GoogLeNet, later updated and called **DarkNet** based on **VGG**) that splits the input into a grid of cells and each cell directly predicts a bounding box and object classification.\n",
        "\n",
        "- The result is a large number of candidate bounding boxes that are consolidated into a final prediction by a post-processing step.\n",
        "\n",
        "- There are three main variations of the approach, **YOLOv1**, **YOLOv2**, and **YOLOv3**.\n",
        "\n",
        "- We will use **experiencor**’s [keras-yolo3](https://github.com/experiencor/keras-yolo3) project as the basis for performing object detection with a YOLOv3 model."
      ]
    },
    {
      "cell_type": "markdown",
      "metadata": {
        "id": "DkP6ofJrTL7e"
      },
      "source": [
        "## Download the Pre-trained Model Weights"
      ]
    },
    {
      "cell_type": "markdown",
      "metadata": {
        "id": "DfULTSP9Xr2N"
      },
      "source": [
        "- We will download the pre-trained model weights using `wget`.\n",
        "\n",
        "- These were trained using the DarkNet code base on the **MSCOCO** dataset.\n"
      ]
    },
    {
      "cell_type": "code",
      "metadata": {
        "id": "py2hXDDM3n2I",
        "colab": {
          "base_uri": "https://localhost:8080/"
        },
        "outputId": "cc17ba24-7a40-4cab-8a38-eff9a908ce3d"
      },
      "source": [
        "!wget https://pjreddie.com/media/files/yolov3.weights"
      ],
      "execution_count": 1,
      "outputs": [
        {
          "output_type": "stream",
          "text": [
            "--2021-05-17 17:26:13--  https://pjreddie.com/media/files/yolov3.weights\n",
            "Resolving pjreddie.com (pjreddie.com)... 128.208.4.108\n",
            "Connecting to pjreddie.com (pjreddie.com)|128.208.4.108|:443... connected.\n",
            "HTTP request sent, awaiting response... 200 OK\n",
            "Length: 248007048 (237M) [application/octet-stream]\n",
            "Saving to: ‘yolov3.weights’\n",
            "\n",
            "yolov3.weights      100%[===================>] 236.52M  23.1MB/s    in 11s     \n",
            "\n",
            "2021-05-17 17:26:25 (21.4 MB/s) - ‘yolov3.weights’ saved [248007048/248007048]\n",
            "\n"
          ],
          "name": "stdout"
        }
      ]
    },
    {
      "cell_type": "markdown",
      "metadata": {
        "id": "0XSW_UxXAESu"
      },
      "source": [
        "- After this the weights are saved in the current working directory under the name **yolov3.weights**"
      ]
    },
    {
      "cell_type": "markdown",
      "metadata": {
        "id": "0CEzGrtlgRh7"
      },
      "source": [
        "- We will also **download** a **python script** containing code which will help us **load** the above downloaded **weights** into our model.\n",
        "\n",
        "- To **simplify** the download, we have created a **zip** file containing the python script."
      ]
    },
    {
      "cell_type": "code",
      "metadata": {
        "id": "9VXVrwkjgRh8",
        "colab": {
          "base_uri": "https://localhost:8080/"
        },
        "outputId": "f2f19112-6b61-488e-d666-1a4d2100a12c"
      },
      "source": [
        "!wget https://github.com/insaid2018/DeepLearning/raw/master/Data/weight_reader.zip"
      ],
      "execution_count": 2,
      "outputs": [
        {
          "output_type": "stream",
          "text": [
            "--2021-05-17 17:26:32--  https://github.com/insaid2018/DeepLearning/raw/master/Data/weight_reader.zip\n",
            "Resolving github.com (github.com)... 52.192.72.89\n",
            "Connecting to github.com (github.com)|52.192.72.89|:443... connected.\n",
            "HTTP request sent, awaiting response... 302 Found\n",
            "Location: https://raw.githubusercontent.com/insaid2018/DeepLearning/master/Data/weight_reader.zip [following]\n",
            "--2021-05-17 17:26:32--  https://raw.githubusercontent.com/insaid2018/DeepLearning/master/Data/weight_reader.zip\n",
            "Resolving raw.githubusercontent.com (raw.githubusercontent.com)... 185.199.111.133, 185.199.108.133, 185.199.110.133, ...\n",
            "Connecting to raw.githubusercontent.com (raw.githubusercontent.com)|185.199.111.133|:443... connected.\n",
            "HTTP request sent, awaiting response... 200 OK\n",
            "Length: 879 [application/zip]\n",
            "Saving to: ‘weight_reader.zip’\n",
            "\n",
            "weight_reader.zip   100%[===================>]     879  --.-KB/s    in 0s      \n",
            "\n",
            "2021-05-17 17:26:33 (22.2 MB/s) - ‘weight_reader.zip’ saved [879/879]\n",
            "\n"
          ],
          "name": "stdout"
        }
      ]
    },
    {
      "cell_type": "code",
      "metadata": {
        "id": "7s3KW-IUlD86"
      },
      "source": [
        "!unzip -qq weight_reader.zip"
      ],
      "execution_count": 3,
      "outputs": []
    },
    {
      "cell_type": "code",
      "metadata": {
        "id": "PIkVbIUpDBfL",
        "colab": {
          "base_uri": "https://localhost:8080/"
        },
        "outputId": "2419eb89-bb2f-4f76-fe53-68f0f78408bd"
      },
      "source": [
        "!ls"
      ],
      "execution_count": 4,
      "outputs": [
        {
          "output_type": "stream",
          "text": [
            "sample_data  weight_reader.py  weight_reader.zip  yolov3.weights\n"
          ],
          "name": "stdout"
        }
      ]
    },
    {
      "cell_type": "markdown",
      "metadata": {
        "id": "R16jx5eGC-F8"
      },
      "source": [
        "- After **unzipping** the `weight_reader.zip` file, we obtain the `weight_reader.py` file.\n",
        "\n",
        "- This file contains the **weight reading** code."
      ]
    },
    {
      "cell_type": "markdown",
      "metadata": {
        "id": "Fq7xdWjy0vvi"
      },
      "source": [
        "## Creating and Saving Model"
      ]
    },
    {
      "cell_type": "code",
      "metadata": {
        "id": "JYvYPQsx4uK4"
      },
      "source": [
        "# Import tensorflow 2.x\n",
        "# This code block will only work in Google Colab.\n",
        "try:\n",
        "    # %tensorflow_version only exists in Colab.\n",
        "    %tensorflow_version 2.x\n",
        "except Exception:\n",
        "    pass\n",
        "\n",
        "import tensorflow as tf"
      ],
      "execution_count": 5,
      "outputs": []
    },
    {
      "cell_type": "code",
      "metadata": {
        "id": "uPYh_W46_jFn"
      },
      "source": [
        "from tensorflow.keras.models import Model\n",
        "from tensorflow.keras.layers import Input, Conv2D\n",
        "from tensorflow.keras.layers import BatchNormalization, LeakyReLU, ZeroPadding2D, UpSampling2D\n",
        "from tensorflow.keras.layers import add, concatenate"
      ],
      "execution_count": 6,
      "outputs": []
    },
    {
      "cell_type": "markdown",
      "metadata": {
        "id": "_0q-FMZMkKNV"
      },
      "source": [
        "- We will import the **WeightReader** class from `weight_reader.py` script."
      ]
    },
    {
      "cell_type": "code",
      "metadata": {
        "id": "f6YstlgbaUlf"
      },
      "source": [
        "from weight_reader import WeightReader"
      ],
      "execution_count": 7,
      "outputs": []
    },
    {
      "cell_type": "markdown",
      "metadata": {
        "id": "7BRxt_bOKzI8"
      },
      "source": [
        "### Utility Functions"
      ]
    },
    {
      "cell_type": "markdown",
      "metadata": {
        "id": "B2-Han91Awlm"
      },
      "source": [
        "- We will create functions `_conv_block` and `make_yolov3_model`, which will help us in building our **YOLOv3** model."
      ]
    },
    {
      "cell_type": "code",
      "metadata": {
        "id": "WcW6q_bpBD3H"
      },
      "source": [
        "# Function to help create custom convolution blocks\n",
        "def _conv_block(inp, convs, skip=True):\n",
        "\tx = inp\n",
        "\tcount = 0\n",
        "\tfor conv in convs:\n",
        "\t\tif count == (len(convs) - 2) and skip:\n",
        "\t\t\tskip_connection = x\n",
        "\t\tcount += 1\n",
        "\t\tif conv['stride'] > 1: x = ZeroPadding2D(((1,0),(1,0)))(x) # peculiar padding as darknet prefer left and top\n",
        "\t\tx = Conv2D(conv['filter'],\n",
        "\t\t\t\t   conv['kernel'],\n",
        "\t\t\t\t   strides=conv['stride'],\n",
        "\t\t\t\t   padding='valid' if conv['stride'] > 1 else 'same', # peculiar padding as darknet prefer left and top\n",
        "\t\t\t\t   name='conv_' + str(conv['layer_idx']),\n",
        "\t\t\t\t   use_bias=False if conv['bnorm'] else True)(x)\n",
        "\t\tif conv['bnorm']: x = BatchNormalization(epsilon=0.001, name='bnorm_' + str(conv['layer_idx']))(x)\n",
        "\t\tif conv['leaky']: x = LeakyReLU(alpha=0.1, name='leaky_' + str(conv['layer_idx']))(x)\n",
        "\treturn add([skip_connection, x]) if skip else x"
      ],
      "execution_count": 8,
      "outputs": []
    },
    {
      "cell_type": "code",
      "metadata": {
        "id": "S6VFAeYYBIwN"
      },
      "source": [
        "# Function to make the yolov3 model architecture\n",
        "def make_yolov3_model():\n",
        "\tinput_image = Input(shape=(None, None, 3))\n",
        "\t# Layer  0 => 4\n",
        "\tx = _conv_block(input_image, [{'filter': 32, 'kernel': 3, 'stride': 1, 'bnorm': True, 'leaky': True, 'layer_idx': 0},\n",
        "\t\t\t\t\t\t\t\t  {'filter': 64, 'kernel': 3, 'stride': 2, 'bnorm': True, 'leaky': True, 'layer_idx': 1},\n",
        "\t\t\t\t\t\t\t\t  {'filter': 32, 'kernel': 1, 'stride': 1, 'bnorm': True, 'leaky': True, 'layer_idx': 2},\n",
        "\t\t\t\t\t\t\t\t  {'filter': 64, 'kernel': 3, 'stride': 1, 'bnorm': True, 'leaky': True, 'layer_idx': 3}])\n",
        "\t# Layer  5 => 8\n",
        "\tx = _conv_block(x, [{'filter': 128, 'kernel': 3, 'stride': 2, 'bnorm': True, 'leaky': True, 'layer_idx': 5},\n",
        "\t\t\t\t\t\t{'filter':  64, 'kernel': 1, 'stride': 1, 'bnorm': True, 'leaky': True, 'layer_idx': 6},\n",
        "\t\t\t\t\t\t{'filter': 128, 'kernel': 3, 'stride': 1, 'bnorm': True, 'leaky': True, 'layer_idx': 7}])\n",
        "\t# Layer  9 => 11\n",
        "\tx = _conv_block(x, [{'filter':  64, 'kernel': 1, 'stride': 1, 'bnorm': True, 'leaky': True, 'layer_idx': 9},\n",
        "\t\t\t\t\t\t{'filter': 128, 'kernel': 3, 'stride': 1, 'bnorm': True, 'leaky': True, 'layer_idx': 10}])\n",
        "\t# Layer 12 => 15\n",
        "\tx = _conv_block(x, [{'filter': 256, 'kernel': 3, 'stride': 2, 'bnorm': True, 'leaky': True, 'layer_idx': 12},\n",
        "\t\t\t\t\t\t{'filter': 128, 'kernel': 1, 'stride': 1, 'bnorm': True, 'leaky': True, 'layer_idx': 13},\n",
        "\t\t\t\t\t\t{'filter': 256, 'kernel': 3, 'stride': 1, 'bnorm': True, 'leaky': True, 'layer_idx': 14}])\n",
        "\t# Layer 16 => 36\n",
        "\tfor i in range(7):\n",
        "\t\tx = _conv_block(x, [{'filter': 128, 'kernel': 1, 'stride': 1, 'bnorm': True, 'leaky': True, 'layer_idx': 16+i*3},\n",
        "\t\t\t\t\t\t\t{'filter': 256, 'kernel': 3, 'stride': 1, 'bnorm': True, 'leaky': True, 'layer_idx': 17+i*3}])\n",
        "\tskip_36 = x\n",
        "\t# Layer 37 => 40\n",
        "\tx = _conv_block(x, [{'filter': 512, 'kernel': 3, 'stride': 2, 'bnorm': True, 'leaky': True, 'layer_idx': 37},\n",
        "\t\t\t\t\t\t{'filter': 256, 'kernel': 1, 'stride': 1, 'bnorm': True, 'leaky': True, 'layer_idx': 38},\n",
        "\t\t\t\t\t\t{'filter': 512, 'kernel': 3, 'stride': 1, 'bnorm': True, 'leaky': True, 'layer_idx': 39}])\n",
        "\t# Layer 41 => 61\n",
        "\tfor i in range(7):\n",
        "\t\tx = _conv_block(x, [{'filter': 256, 'kernel': 1, 'stride': 1, 'bnorm': True, 'leaky': True, 'layer_idx': 41+i*3},\n",
        "\t\t\t\t\t\t\t{'filter': 512, 'kernel': 3, 'stride': 1, 'bnorm': True, 'leaky': True, 'layer_idx': 42+i*3}])\n",
        "\tskip_61 = x\n",
        "\t# Layer 62 => 65\n",
        "\tx = _conv_block(x, [{'filter': 1024, 'kernel': 3, 'stride': 2, 'bnorm': True, 'leaky': True, 'layer_idx': 62},\n",
        "\t\t\t\t\t\t{'filter':  512, 'kernel': 1, 'stride': 1, 'bnorm': True, 'leaky': True, 'layer_idx': 63},\n",
        "\t\t\t\t\t\t{'filter': 1024, 'kernel': 3, 'stride': 1, 'bnorm': True, 'leaky': True, 'layer_idx': 64}])\n",
        "\t# Layer 66 => 74\n",
        "\tfor i in range(3):\n",
        "\t\tx = _conv_block(x, [{'filter':  512, 'kernel': 1, 'stride': 1, 'bnorm': True, 'leaky': True, 'layer_idx': 66+i*3},\n",
        "\t\t\t\t\t\t\t{'filter': 1024, 'kernel': 3, 'stride': 1, 'bnorm': True, 'leaky': True, 'layer_idx': 67+i*3}])\n",
        "\t# Layer 75 => 79\n",
        "\tx = _conv_block(x, [{'filter':  512, 'kernel': 1, 'stride': 1, 'bnorm': True, 'leaky': True, 'layer_idx': 75},\n",
        "\t\t\t\t\t\t{'filter': 1024, 'kernel': 3, 'stride': 1, 'bnorm': True, 'leaky': True, 'layer_idx': 76},\n",
        "\t\t\t\t\t\t{'filter':  512, 'kernel': 1, 'stride': 1, 'bnorm': True, 'leaky': True, 'layer_idx': 77},\n",
        "\t\t\t\t\t\t{'filter': 1024, 'kernel': 3, 'stride': 1, 'bnorm': True, 'leaky': True, 'layer_idx': 78},\n",
        "\t\t\t\t\t\t{'filter':  512, 'kernel': 1, 'stride': 1, 'bnorm': True, 'leaky': True, 'layer_idx': 79}], skip=False)\n",
        "\t# Layer 80 => 82\n",
        "\tyolo_82 = _conv_block(x, [{'filter': 1024, 'kernel': 3, 'stride': 1, 'bnorm': True,  'leaky': True,  'layer_idx': 80},\n",
        "\t\t\t\t\t\t\t  {'filter':  255, 'kernel': 1, 'stride': 1, 'bnorm': False, 'leaky': False, 'layer_idx': 81}], skip=False)\n",
        "\t# Layer 83 => 86\n",
        "\tx = _conv_block(x, [{'filter': 256, 'kernel': 1, 'stride': 1, 'bnorm': True, 'leaky': True, 'layer_idx': 84}], skip=False)\n",
        "\tx = UpSampling2D(2)(x)\n",
        "\tx = concatenate([x, skip_61])\n",
        "\t# Layer 87 => 91\n",
        "\tx = _conv_block(x, [{'filter': 256, 'kernel': 1, 'stride': 1, 'bnorm': True, 'leaky': True, 'layer_idx': 87},\n",
        "\t\t\t\t\t\t{'filter': 512, 'kernel': 3, 'stride': 1, 'bnorm': True, 'leaky': True, 'layer_idx': 88},\n",
        "\t\t\t\t\t\t{'filter': 256, 'kernel': 1, 'stride': 1, 'bnorm': True, 'leaky': True, 'layer_idx': 89},\n",
        "\t\t\t\t\t\t{'filter': 512, 'kernel': 3, 'stride': 1, 'bnorm': True, 'leaky': True, 'layer_idx': 90},\n",
        "\t\t\t\t\t\t{'filter': 256, 'kernel': 1, 'stride': 1, 'bnorm': True, 'leaky': True, 'layer_idx': 91}], skip=False)\n",
        "\t# Layer 92 => 94\n",
        "\tyolo_94 = _conv_block(x, [{'filter': 512, 'kernel': 3, 'stride': 1, 'bnorm': True,  'leaky': True,  'layer_idx': 92},\n",
        "\t\t\t\t\t\t\t  {'filter': 255, 'kernel': 1, 'stride': 1, 'bnorm': False, 'leaky': False, 'layer_idx': 93}], skip=False)\n",
        "\t# Layer 95 => 98\n",
        "\tx = _conv_block(x, [{'filter': 128, 'kernel': 1, 'stride': 1, 'bnorm': True, 'leaky': True,   'layer_idx': 96}], skip=False)\n",
        "\tx = UpSampling2D(2)(x)\n",
        "\tx = concatenate([x, skip_36])\n",
        "\t# Layer 99 => 106\n",
        "\tyolo_106 = _conv_block(x, [{'filter': 128, 'kernel': 1, 'stride': 1, 'bnorm': True,  'leaky': True,  'layer_idx': 99},\n",
        "\t\t\t\t\t\t\t   {'filter': 256, 'kernel': 3, 'stride': 1, 'bnorm': True,  'leaky': True,  'layer_idx': 100},\n",
        "\t\t\t\t\t\t\t   {'filter': 128, 'kernel': 1, 'stride': 1, 'bnorm': True,  'leaky': True,  'layer_idx': 101},\n",
        "\t\t\t\t\t\t\t   {'filter': 256, 'kernel': 3, 'stride': 1, 'bnorm': True,  'leaky': True,  'layer_idx': 102},\n",
        "\t\t\t\t\t\t\t   {'filter': 128, 'kernel': 1, 'stride': 1, 'bnorm': True,  'leaky': True,  'layer_idx': 103},\n",
        "\t\t\t\t\t\t\t   {'filter': 256, 'kernel': 3, 'stride': 1, 'bnorm': True,  'leaky': True,  'layer_idx': 104},\n",
        "\t\t\t\t\t\t\t   {'filter': 255, 'kernel': 1, 'stride': 1, 'bnorm': False, 'leaky': False, 'layer_idx': 105}], skip=False)\n",
        "\tmodel = Model(input_image, [yolo_82, yolo_94, yolo_106])\n",
        "\treturn model"
      ],
      "execution_count": 10,
      "outputs": []
    },
    {
      "cell_type": "markdown",
      "metadata": {
        "id": "4vMOda2lK5MG"
      },
      "source": [
        "### Model Building"
      ]
    },
    {
      "cell_type": "markdown",
      "metadata": {
        "id": "I9gDNDYjXj8G"
      },
      "source": [
        "### Making a YOLOv3 Model\n",
        "\n",
        "- Use the `make_yolov3_model` function to create a **model** variable. "
      ]
    },
    {
      "cell_type": "code",
      "metadata": {
        "id": "VZZhCIRhZuXF"
      },
      "source": [
        "def make_model():\n",
        "    model = make_yolov3_model() # code to make model here.\n",
        "    \n",
        "    return model"
      ],
      "execution_count": 11,
      "outputs": []
    },
    {
      "cell_type": "code",
      "metadata": {
        "id": "MsHz8XJDCAgV"
      },
      "source": [
        "model = make_model()"
      ],
      "execution_count": 12,
      "outputs": []
    },
    {
      "cell_type": "markdown",
      "metadata": {
        "id": "Gw2LnpN2aAU6"
      },
      "source": [
        "### Creating a WeightReader Object\n",
        "\n",
        "- Pass **'yolov3.weights'** as the input to the WeightReader class. "
      ]
    },
    {
      "cell_type": "code",
      "metadata": {
        "id": "6Lcnq2B2aQMZ"
      },
      "source": [
        "def make_weight_reader():\n",
        "    weight_reader = WeightReader('yolov3.weights') # code to create WeightReader object here.\n",
        "    \n",
        "    return weight_reader"
      ],
      "execution_count": 17,
      "outputs": []
    },
    {
      "cell_type": "code",
      "metadata": {
        "id": "n1U1SSNECAjE"
      },
      "source": [
        "weight_reader = make_weight_reader()"
      ],
      "execution_count": 19,
      "outputs": []
    },
    {
      "cell_type": "markdown",
      "metadata": {
        "id": "IppSTHq4ao70"
      },
      "source": [
        "### Setting the Model Weights into the Model\n",
        "\n",
        "- Use **weight_reader**'s `load_weights` function with **model** as the input."
      ]
    },
    {
      "cell_type": "code",
      "metadata": {
        "id": "ZlLJMWIcbBVx"
      },
      "source": [
        "def set_model_weights(model):\n",
        "    # code to set the model weights into the model here.\n",
        "    weight_reader.load_weights(model)"
      ],
      "execution_count": 20,
      "outputs": []
    },
    {
      "cell_type": "code",
      "metadata": {
        "id": "2aSHCQ6VCAvz",
        "colab": {
          "base_uri": "https://localhost:8080/"
        },
        "outputId": "4e1a45ea-95e5-4756-ddaa-f563b43bec7f"
      },
      "source": [
        "set_model_weights(model)"
      ],
      "execution_count": 21,
      "outputs": [
        {
          "output_type": "stream",
          "text": [
            "loading weights of convolution #0\n",
            "loading weights of convolution #1\n",
            "loading weights of convolution #2\n",
            "loading weights of convolution #3\n",
            "no convolution #4\n",
            "loading weights of convolution #5\n",
            "loading weights of convolution #6\n",
            "loading weights of convolution #7\n",
            "no convolution #8\n",
            "loading weights of convolution #9\n",
            "loading weights of convolution #10\n",
            "no convolution #11\n",
            "loading weights of convolution #12\n",
            "loading weights of convolution #13\n",
            "loading weights of convolution #14\n",
            "no convolution #15\n",
            "loading weights of convolution #16\n",
            "loading weights of convolution #17\n",
            "no convolution #18\n",
            "loading weights of convolution #19\n",
            "loading weights of convolution #20\n",
            "no convolution #21\n",
            "loading weights of convolution #22\n",
            "loading weights of convolution #23\n",
            "no convolution #24\n",
            "loading weights of convolution #25\n",
            "loading weights of convolution #26\n",
            "no convolution #27\n",
            "loading weights of convolution #28\n",
            "loading weights of convolution #29\n",
            "no convolution #30\n",
            "loading weights of convolution #31\n",
            "loading weights of convolution #32\n",
            "no convolution #33\n",
            "loading weights of convolution #34\n",
            "loading weights of convolution #35\n",
            "no convolution #36\n",
            "loading weights of convolution #37\n",
            "loading weights of convolution #38\n",
            "loading weights of convolution #39\n",
            "no convolution #40\n",
            "loading weights of convolution #41\n",
            "loading weights of convolution #42\n",
            "no convolution #43\n",
            "loading weights of convolution #44\n",
            "loading weights of convolution #45\n",
            "no convolution #46\n",
            "loading weights of convolution #47\n",
            "loading weights of convolution #48\n",
            "no convolution #49\n",
            "loading weights of convolution #50\n",
            "loading weights of convolution #51\n",
            "no convolution #52\n",
            "loading weights of convolution #53\n",
            "loading weights of convolution #54\n",
            "no convolution #55\n",
            "loading weights of convolution #56\n",
            "loading weights of convolution #57\n",
            "no convolution #58\n",
            "loading weights of convolution #59\n",
            "loading weights of convolution #60\n",
            "no convolution #61\n",
            "loading weights of convolution #62\n",
            "loading weights of convolution #63\n",
            "loading weights of convolution #64\n",
            "no convolution #65\n",
            "loading weights of convolution #66\n",
            "loading weights of convolution #67\n",
            "no convolution #68\n",
            "loading weights of convolution #69\n",
            "loading weights of convolution #70\n",
            "no convolution #71\n",
            "loading weights of convolution #72\n",
            "loading weights of convolution #73\n",
            "no convolution #74\n",
            "loading weights of convolution #75\n",
            "loading weights of convolution #76\n",
            "loading weights of convolution #77\n",
            "loading weights of convolution #78\n",
            "loading weights of convolution #79\n",
            "loading weights of convolution #80\n",
            "loading weights of convolution #81\n",
            "no convolution #82\n",
            "no convolution #83\n",
            "loading weights of convolution #84\n",
            "no convolution #85\n",
            "no convolution #86\n",
            "loading weights of convolution #87\n",
            "loading weights of convolution #88\n",
            "loading weights of convolution #89\n",
            "loading weights of convolution #90\n",
            "loading weights of convolution #91\n",
            "loading weights of convolution #92\n",
            "loading weights of convolution #93\n",
            "no convolution #94\n",
            "no convolution #95\n",
            "loading weights of convolution #96\n",
            "no convolution #97\n",
            "no convolution #98\n",
            "loading weights of convolution #99\n",
            "loading weights of convolution #100\n",
            "loading weights of convolution #101\n",
            "loading weights of convolution #102\n",
            "loading weights of convolution #103\n",
            "loading weights of convolution #104\n",
            "loading weights of convolution #105\n"
          ],
          "name": "stdout"
        }
      ]
    },
    {
      "cell_type": "markdown",
      "metadata": {
        "id": "PJDzhGeMLS2C"
      },
      "source": [
        "### Saving the Model"
      ]
    },
    {
      "cell_type": "markdown",
      "metadata": {
        "id": "vgN3tmZvLgc6"
      },
      "source": [
        "- After loading the weights, we will save our model into a file for later use."
      ]
    },
    {
      "cell_type": "markdown",
      "metadata": {
        "id": "KT5XbviZsg8b"
      },
      "source": [
        "### Save the Model\n",
        "\n",
        "- Use **model**'s `save` function, and save it as **model.h5**"
      ]
    },
    {
      "cell_type": "code",
      "metadata": {
        "id": "cGrns7hes3gV"
      },
      "source": [
        "def save_model(model):\n",
        "    # code to save model here.\n",
        "    model.save('model.h5')"
      ],
      "execution_count": 22,
      "outputs": []
    },
    {
      "cell_type": "code",
      "metadata": {
        "id": "y4nDyzNP4R6L"
      },
      "source": [
        "save_model(model)"
      ],
      "execution_count": 23,
      "outputs": []
    },
    {
      "cell_type": "markdown",
      "metadata": {
        "id": "CJcUlaWSD2dA"
      },
      "source": [
        "- The model is saved as **model.h5**"
      ]
    },
    {
      "cell_type": "markdown",
      "metadata": {
        "id": "nJU4JK420xK6"
      },
      "source": [
        "## Loading the Model"
      ]
    },
    {
      "cell_type": "markdown",
      "metadata": {
        "id": "5rdAUrLVDV6Q"
      },
      "source": [
        "- Now we will load the YOLOv3 model and perform Object Detection."
      ]
    },
    {
      "cell_type": "markdown",
      "metadata": {
        "id": "dwKKFlCmthxX"
      },
      "source": [
        "### Load the Model\n",
        "\n",
        "- Use `load_model` function to load the **model.h5** file into **model** variable."
      ]
    },
    {
      "cell_type": "code",
      "metadata": {
        "id": "fpCXEofPEQ1w"
      },
      "source": [
        "from tensorflow.keras.models import load_model"
      ],
      "execution_count": 24,
      "outputs": []
    },
    {
      "cell_type": "code",
      "metadata": {
        "id": "5bfMCAzHtwc8"
      },
      "source": [
        "def load_model_fn():\n",
        "    model = load_model('model.h5')# code to load model here.\n",
        "\n",
        "    return model"
      ],
      "execution_count": 25,
      "outputs": []
    },
    {
      "cell_type": "code",
      "metadata": {
        "id": "p-SGY8h-Dvzv",
        "colab": {
          "base_uri": "https://localhost:8080/"
        },
        "outputId": "21fc7a5b-8505-44fa-ab77-3506a34b44fe"
      },
      "source": [
        "model = load_model_fn()"
      ],
      "execution_count": 26,
      "outputs": [
        {
          "output_type": "stream",
          "text": [
            "WARNING:tensorflow:No training configuration found in the save file, so the model was *not* compiled. Compile it manually.\n"
          ],
          "name": "stdout"
        }
      ]
    },
    {
      "cell_type": "markdown",
      "metadata": {
        "id": "GY_CW7aRExNJ"
      },
      "source": [
        "- Our yolov3 model is loaded into the `model` variable."
      ]
    },
    {
      "cell_type": "markdown",
      "metadata": {
        "id": "JzWkMzYV0xc-"
      },
      "source": [
        "## Making a Prediction and Interpret Result"
      ]
    },
    {
      "cell_type": "code",
      "metadata": {
        "id": "n8znTVilEKcX"
      },
      "source": [
        "import numpy as np\n",
        "from numpy import expand_dims\n",
        "import matplotlib.pyplot as plt\n",
        "from matplotlib.patches import Rectangle"
      ],
      "execution_count": 27,
      "outputs": []
    },
    {
      "cell_type": "code",
      "metadata": {
        "id": "7vmwNZ78EKex"
      },
      "source": [
        "from tensorflow.keras.preprocessing.image import load_img, img_to_array"
      ],
      "execution_count": 28,
      "outputs": []
    },
    {
      "cell_type": "markdown",
      "metadata": {
        "id": "7p02azhYJZJ7"
      },
      "source": [
        "### Utility Functions"
      ]
    },
    {
      "cell_type": "markdown",
      "metadata": {
        "id": "Vu9MN-wbFDdu"
      },
      "source": [
        "- We will create some **utility** functions for our YOLOv3 algorithm."
      ]
    },
    {
      "cell_type": "code",
      "metadata": {
        "id": "VLrJW4PsEKip"
      },
      "source": [
        "# Creating BoundBox class for creating the bounding boxes around the objects\n",
        "class BoundBox:\n",
        "\tdef __init__(self, xmin, ymin, xmax, ymax, objness = None, classes = None):\n",
        "\t\tself.xmin = xmin\n",
        "\t\tself.ymin = ymin\n",
        "\t\tself.xmax = xmax\n",
        "\t\tself.ymax = ymax\n",
        "\t\tself.objness = objness\n",
        "\t\tself.classes = classes\n",
        "\t\tself.label = -1\n",
        "\t\tself.score = -1\n",
        "\n",
        "\tdef get_label(self):\n",
        "\t\tif self.label == -1:\n",
        "\t\t\tself.label = np.argmax(self.classes)\n",
        "\n",
        "\t\treturn self.label\n",
        "\n",
        "\tdef get_score(self):\n",
        "\t\tif self.score == -1:\n",
        "\t\t\tself.score = self.classes[self.get_label()]\n",
        "\n",
        "\t\treturn self.score"
      ],
      "execution_count": 29,
      "outputs": []
    },
    {
      "cell_type": "code",
      "metadata": {
        "id": "pdv5NlEqEbSe"
      },
      "source": [
        "def _sigmoid(x):\n",
        "\treturn 1. / (1. + np.exp(-x))"
      ],
      "execution_count": 30,
      "outputs": []
    },
    {
      "cell_type": "code",
      "metadata": {
        "id": "ZC0gHlTtEbVX"
      },
      "source": [
        "def decode_netout(netout, anchors, obj_thresh, net_h, net_w):\n",
        "\tgrid_h, grid_w = netout.shape[:2]\n",
        "\tnb_box = 3\n",
        "\tnetout = netout.reshape((grid_h, grid_w, nb_box, -1))\n",
        "\tnb_class = netout.shape[-1] - 5\n",
        "\tboxes = []\n",
        "\tnetout[..., :2]  = _sigmoid(netout[..., :2])\n",
        "\tnetout[..., 4:]  = _sigmoid(netout[..., 4:])\n",
        "\tnetout[..., 5:]  = netout[..., 4][..., np.newaxis] * netout[..., 5:]\n",
        "\tnetout[..., 5:] *= netout[..., 5:] > obj_thresh\n",
        "\n",
        "\tfor i in range(grid_h*grid_w):\n",
        "\t\trow = i / grid_w\n",
        "\t\tcol = i % grid_w\n",
        "\t\tfor b in range(nb_box):\n",
        "\t\t\t# 4th element is objectness score\n",
        "\t\t\tobjectness = netout[int(row)][int(col)][b][4]\n",
        "\t\t\tif(objectness.all() <= obj_thresh): continue\n",
        "\t\t\t# First 4 elements are x, y, w, and h\n",
        "\t\t\tx, y, w, h = netout[int(row)][int(col)][b][:4]\n",
        "\t\t\tx = (col + x) / grid_w # center position, unit: image width\n",
        "\t\t\ty = (row + y) / grid_h # center position, unit: image height\n",
        "\t\t\tw = anchors[2 * b + 0] * np.exp(w) / net_w # unit: image width\n",
        "\t\t\th = anchors[2 * b + 1] * np.exp(h) / net_h # unit: image height\n",
        "\t\t\t# Last elements are class probabilities\n",
        "\t\t\tclasses = netout[int(row)][col][b][5:]\n",
        "\t\t\tbox = BoundBox(x-w/2, y-h/2, x+w/2, y+h/2, objectness, classes)\n",
        "\t\t\tboxes.append(box)\n",
        "\treturn boxes"
      ],
      "execution_count": 31,
      "outputs": []
    },
    {
      "cell_type": "code",
      "metadata": {
        "id": "NMUcgD9eEeOo"
      },
      "source": [
        "def correct_yolo_boxes(boxes, image_h, image_w, net_h, net_w):\n",
        "\tnew_w, new_h = net_w, net_h\n",
        "\tfor i in range(len(boxes)):\n",
        "\t\tx_offset, x_scale = (net_w - new_w)/2./net_w, float(new_w)/net_w\n",
        "\t\ty_offset, y_scale = (net_h - new_h)/2./net_h, float(new_h)/net_h\n",
        "\t\tboxes[i].xmin = int((boxes[i].xmin - x_offset) / x_scale * image_w)\n",
        "\t\tboxes[i].xmax = int((boxes[i].xmax - x_offset) / x_scale * image_w)\n",
        "\t\tboxes[i].ymin = int((boxes[i].ymin - y_offset) / y_scale * image_h)\n",
        "\t\tboxes[i].ymax = int((boxes[i].ymax - y_offset) / y_scale * image_h)"
      ],
      "execution_count": 32,
      "outputs": []
    },
    {
      "cell_type": "code",
      "metadata": {
        "id": "aXlmsEckEeRG"
      },
      "source": [
        "def _interval_overlap(interval_a, interval_b):\n",
        "\tx1, x2 = interval_a\n",
        "\tx3, x4 = interval_b\n",
        "\tif x3 < x1:\n",
        "\t\tif x4 < x1:\n",
        "\t\t\treturn 0\n",
        "\t\telse:\n",
        "\t\t\treturn min(x2,x4) - x1\n",
        "\telse:\n",
        "\t\tif x2 < x3:\n",
        "\t\t\t return 0\n",
        "\t\telse:\n",
        "\t\t\treturn min(x2,x4) - x3"
      ],
      "execution_count": 33,
      "outputs": []
    },
    {
      "cell_type": "code",
      "metadata": {
        "id": "REr1aYIMEeUO"
      },
      "source": [
        "def bbox_iou(box1, box2):\n",
        "\tintersect_w = _interval_overlap([box1.xmin, box1.xmax], [box2.xmin, box2.xmax])\n",
        "\tintersect_h = _interval_overlap([box1.ymin, box1.ymax], [box2.ymin, box2.ymax])\n",
        "\tintersect = intersect_w * intersect_h\n",
        "\tw1, h1 = box1.xmax-box1.xmin, box1.ymax-box1.ymin\n",
        "\tw2, h2 = box2.xmax-box2.xmin, box2.ymax-box2.ymin\n",
        "\tunion = w1*h1 + w2*h2 - intersect\n",
        "\treturn float(intersect) / union"
      ],
      "execution_count": 34,
      "outputs": []
    },
    {
      "cell_type": "code",
      "metadata": {
        "id": "PRKucv1MEbYf"
      },
      "source": [
        "def do_nms(boxes, nms_thresh):\n",
        "\tif len(boxes) > 0:\n",
        "\t\tnb_class = len(boxes[0].classes)\n",
        "\telse:\n",
        "\t\treturn\n",
        "\tfor c in range(nb_class):\n",
        "\t\tsorted_indices = np.argsort([-box.classes[c] for box in boxes])\n",
        "\t\tfor i in range(len(sorted_indices)):\n",
        "\t\t\tindex_i = sorted_indices[i]\n",
        "\t\t\tif boxes[index_i].classes[c] == 0: continue\n",
        "\t\t\tfor j in range(i+1, len(sorted_indices)):\n",
        "\t\t\t\tindex_j = sorted_indices[j]\n",
        "\t\t\t\tif bbox_iou(boxes[index_i], boxes[index_j]) >= nms_thresh:\n",
        "\t\t\t\t\tboxes[index_j].classes[c] = 0"
      ],
      "execution_count": 35,
      "outputs": []
    },
    {
      "cell_type": "markdown",
      "metadata": {
        "id": "4ueAarMJJljA"
      },
      "source": [
        "### Helper Functions"
      ]
    },
    {
      "cell_type": "markdown",
      "metadata": {
        "id": "or0bUOFcFiHg"
      },
      "source": [
        "- Now we will create some helper functions to **load** the image and **visualize** the object detection results. "
      ]
    },
    {
      "cell_type": "code",
      "metadata": {
        "id": "4YjpU_KUEmLy"
      },
      "source": [
        "# Load and prepare an image\n",
        "def load_image_pixels(filename, shape):\n",
        "\t# Load the image to get its shape\n",
        "\timage = load_img(filename)\n",
        "\twidth, height = image.size\n",
        "\t# Load the image with the required size\n",
        "\timage = load_img(filename, target_size=shape)\n",
        "\t# Convert to numpy array\n",
        "\timage = img_to_array(image)\n",
        "\t# Scale pixel values to [0, 1]\n",
        "\timage = image.astype('float32')\n",
        "\timage /= 255.0\n",
        "\t# Add a dimension so that we have one sample\n",
        "\timage = expand_dims(image, 0)\n",
        "\treturn image, width, height"
      ],
      "execution_count": 36,
      "outputs": []
    },
    {
      "cell_type": "code",
      "metadata": {
        "id": "s9_Ppeq_EmOH"
      },
      "source": [
        "# Get all of the results above a threshold\n",
        "def get_boxes(boxes, labels, thresh):\n",
        "\tv_boxes, v_labels, v_scores = list(), list(), list()\n",
        "\t# Enumerate all boxes\n",
        "\tfor box in boxes:\n",
        "\t\t# Enumerate all possible labels\n",
        "\t\tfor i in range(len(labels)):\n",
        "\t\t\t# Check if the threshold for this label is high enough\n",
        "\t\t\tif box.classes[i] > thresh:\n",
        "\t\t\t\tv_boxes.append(box)\n",
        "\t\t\t\tv_labels.append(labels[i])\n",
        "\t\t\t\tv_scores.append(box.classes[i]*100)\n",
        "\t\t\t\t# Don't break, many labels may trigger for one box\n",
        "\treturn v_boxes, v_labels, v_scores"
      ],
      "execution_count": 37,
      "outputs": []
    },
    {
      "cell_type": "code",
      "metadata": {
        "id": "B9pDhxQ_EmRq"
      },
      "source": [
        "# Draw all results\n",
        "def draw_boxes(filename, v_boxes, v_labels, v_scores):\n",
        "\t# Load the image\n",
        "\tdata = plt.imread(filename)\n",
        "\t# Plot the image\n",
        "\tplt.imshow(data)\n",
        "\t# Get the context for drawing boxes\n",
        "\tax = plt.gca()\n",
        "\t# Plot each box\n",
        "\tfor i in range(len(v_boxes)):\n",
        "\t\tbox = v_boxes[i]\n",
        "\t\t# Get coordinates\n",
        "\t\ty1, x1, y2, x2 = box.ymin, box.xmin, box.ymax, box.xmax\n",
        "\t\t# Calculate width and height of the box\n",
        "\t\twidth, height = x2 - x1, y2 - y1\n",
        "\t\t# Create the shape\n",
        "\t\t# Can change the bounding box color here (currently red).\n",
        "\t\trect = Rectangle((x1, y1), width, height, fill=False, color='red')\n",
        "\t\t# Draw the box\n",
        "\t\tax.add_patch(rect)\n",
        "\t\t# Draw text and score in top left corner\n",
        "\t\t# Can change the label text color here (currently black).\n",
        "\t\tlabel = \"%s (%.1f)\" % (v_labels[i], v_scores[i])\n",
        "\t\tplt.text(x1, y1, label, color='black')\n",
        "\t# Show the plot\n",
        "\tplt.show()"
      ],
      "execution_count": 38,
      "outputs": []
    },
    {
      "cell_type": "markdown",
      "metadata": {
        "id": "FCoVj4UAJqhR"
      },
      "source": [
        "### Downloading the Images for Object Detection"
      ]
    },
    {
      "cell_type": "code",
      "metadata": {
        "id": "8x38xjGC-eTj"
      },
      "source": [
        "!wget -q https://raw.githubusercontent.com/insaid2018/DeepLearning/master/images/person.jpg"
      ],
      "execution_count": 39,
      "outputs": []
    },
    {
      "cell_type": "markdown",
      "metadata": {
        "id": "jheFfUkfJy36"
      },
      "source": [
        "### Performing Object Detection"
      ]
    },
    {
      "cell_type": "code",
      "metadata": {
        "id": "unczy_-1RcEU"
      },
      "source": [
        "# Define the expected input shape for the model\n",
        "input_w, input_h = 416, 416"
      ],
      "execution_count": 40,
      "outputs": []
    },
    {
      "cell_type": "code",
      "metadata": {
        "id": "Xf6gFKmmRcJ6"
      },
      "source": [
        "# Define our new photo\n",
        "photo_filename = 'person.jpg'"
      ],
      "execution_count": 41,
      "outputs": []
    },
    {
      "cell_type": "markdown",
      "metadata": {
        "id": "uOjDsjLeuPQU"
      },
      "source": [
        "### Loading and Preparing Image\n",
        "\n",
        "- Use `load_image_pixels` function to load and prepare the image for the YOLOv3 model.\n",
        "\n",
        "  - 1st parameter should be the **photo_filename**.\n",
        "\n",
        "  - 2nd parameter should be a tuple **(input_w, input_h)**\n",
        "\n",
        "- Save the outputs of `load_image_pixels` function in 3 variables **image**, **image_w**, **image_h**."
      ]
    },
    {
      "cell_type": "code",
      "metadata": {
        "id": "yvXMn-qMvuFF"
      },
      "source": [
        "def load_prep_image(photo_filename, input_w, input_h):\n",
        "    image, image_w, image_h = load_image_pixels(photo_filename, (input_w, input_h))# code to load and prepare image using load_image_pixels function here.\n",
        "\n",
        "    return image, image_w, image_h"
      ],
      "execution_count": 44,
      "outputs": []
    },
    {
      "cell_type": "code",
      "metadata": {
        "id": "NfBmC2ybRcHJ"
      },
      "source": [
        "image, image_w, image_h = load_prep_image(photo_filename, input_w, input_h)"
      ],
      "execution_count": 45,
      "outputs": []
    },
    {
      "cell_type": "markdown",
      "metadata": {
        "id": "lNhnGxFnwjC1"
      },
      "source": [
        "### Making Predictions\n",
        "\n",
        "- Use **model**'s `predict` function to make predictions on the **image** varialbe."
      ]
    },
    {
      "cell_type": "code",
      "metadata": {
        "id": "EQQtuOC9w1K-"
      },
      "source": [
        "def make_predictions(model, image):\n",
        "    yhat = model.predict(image) # Code to make predictions on image here.\n",
        "\n",
        "    return yhat"
      ],
      "execution_count": 46,
      "outputs": []
    },
    {
      "cell_type": "code",
      "metadata": {
        "id": "Zc7tnpa9Rfzl"
      },
      "source": [
        "yhat = make_predictions(model, image)"
      ],
      "execution_count": 47,
      "outputs": []
    },
    {
      "cell_type": "code",
      "metadata": {
        "id": "qR54nZ-tRf2b",
        "colab": {
          "base_uri": "https://localhost:8080/"
        },
        "outputId": "13356fc0-5c4d-4b07-d219-34eede102ae3"
      },
      "source": [
        "# Summarize the shape of the list of arrays\n",
        "print([a.shape for a in yhat])"
      ],
      "execution_count": 48,
      "outputs": [
        {
          "output_type": "stream",
          "text": [
            "[(1, 13, 13, 255), (1, 26, 26, 255), (1, 52, 52, 255)]\n"
          ],
          "name": "stdout"
        }
      ]
    },
    {
      "cell_type": "code",
      "metadata": {
        "id": "W730hkHjRf52"
      },
      "source": [
        "# Define the anchors\n",
        "anchors = [[116,90, 156,198, 373,326], [30,61, 62,45, 59,119], [10,13, 16,30, 33,23]]"
      ],
      "execution_count": 49,
      "outputs": []
    },
    {
      "cell_type": "code",
      "metadata": {
        "id": "BSLzsewQRf9Q"
      },
      "source": [
        "# Define the probability threshold for detected objects\n",
        "class_threshold = 0.6\n",
        "boxes = list()\n",
        "for i in range(len(yhat)):\n",
        "\t# decode the output of the network\n",
        "\tboxes += decode_netout(yhat[i][0], anchors[i], class_threshold, input_h, input_w)"
      ],
      "execution_count": 50,
      "outputs": []
    },
    {
      "cell_type": "markdown",
      "metadata": {
        "id": "F63Zxgt7ym8V"
      },
      "source": [
        "### Correcting YOLO Boxes\n",
        "\n",
        "- Use `correct_yolo_boxes` function to correct the sizes of the bounding boxes for the shape of the image.\n",
        "\n",
        "  - Pass **boxes**, **image_h**, **image_w**, **input_h**, **input_w** as input parameters to the above function, in this order."
      ]
    },
    {
      "cell_type": "code",
      "metadata": {
        "id": "F0VxM044zBpM"
      },
      "source": [
        "def correct_boxes(boxes, image_h, image_w, input_h, input_w):\n",
        "    # code to correct YOLO boxes using correct_yolo_boxes function here.\n",
        "    correct_yolo_boxes(boxes, image_h, image_w, input_h, input_w)"
      ],
      "execution_count": 51,
      "outputs": []
    },
    {
      "cell_type": "code",
      "metadata": {
        "id": "5zVnwhvRSOKD"
      },
      "source": [
        "correct_boxes(boxes, image_h, image_w, input_h, input_w)"
      ],
      "execution_count": 52,
      "outputs": []
    },
    {
      "cell_type": "markdown",
      "metadata": {
        "id": "90_OmCtszTgL"
      },
      "source": [
        "### Performing Non-maximum Suppression (NMS)\n",
        "\n",
        "- Use of `do_nms` function to suppress non-maximal boxes.\n",
        "\n",
        "  - Pass **boxes**, **0.5** as input parameters to the above function, in this order."
      ]
    },
    {
      "cell_type": "code",
      "metadata": {
        "id": "v1Els_8RzvKi"
      },
      "source": [
        "def perform_nms(boxes):\n",
        "    # code to perform NMS using do_nms function here.\n",
        "    do_nms(boxes, 0.5)"
      ],
      "execution_count": 53,
      "outputs": []
    },
    {
      "cell_type": "code",
      "metadata": {
        "id": "7lSrMzh6SOM4"
      },
      "source": [
        "perform_nms(boxes)"
      ],
      "execution_count": 54,
      "outputs": []
    },
    {
      "cell_type": "code",
      "metadata": {
        "id": "1pSzD1d13nzv"
      },
      "source": [
        "# Define the labels for the classes we want to predict\n",
        "labels = [\"person\", \"bicycle\", \"car\", \"motorbike\", \"aeroplane\", \"bus\", \"train\", \"truck\", \n",
        "          \"boat\", \"traffic light\", \"fire hydrant\", \"stop sign\", \"parking meter\", \"bench\", \n",
        "          \"bird\", \"cat\", \"dog\", \"horse\", \"sheep\", \"cow\", \"elephant\", \"bear\", \"zebra\", \"giraffe\", \n",
        "          \"backpack\", \"umbrella\", \"handbag\", \"tie\", \"suitcase\", \"frisbee\", \"skis\", \"snowboard\", \n",
        "          \"sports ball\", \"kite\", \"baseball bat\", \"baseball glove\", \"skateboard\", \"surfboard\", \n",
        "          \"tennis racket\", \"bottle\", \"wine glass\", \"cup\", \"fork\", \"knife\", \"spoon\", \"bowl\", \"banana\", \n",
        "          \"apple\", \"sandwich\", \"orange\", \"broccoli\", \"carrot\", \"hot dog\", \"pizza\", \"donut\", \"cake\", \n",
        "          \"chair\", \"sofa\", \"pottedplant\", \"bed\", \"diningtable\", \"toilet\", \"tvmonitor\", \"laptop\", \"mouse\", \n",
        "          \"remote\", \"keyboard\", \"cell phone\", \"microwave\", \"oven\", \"toaster\", \"sink\", \"refrigerator\", \n",
        "          \"book\", \"clock\", \"vase\", \"scissors\", \"teddy bear\", \"hair drier\", \"toothbrush\"]"
      ],
      "execution_count": 55,
      "outputs": []
    },
    {
      "cell_type": "markdown",
      "metadata": {
        "id": "z7uho4Lpz8xZ"
      },
      "source": [
        "### Getting the Details of the Detected Objects\n",
        "\n",
        "- Use `get_boxes` function to get the details of the detected objects.\n",
        "\n",
        "  - Pass **boxes**, **labels**, **class_threshold** as input parameters to the above function, in this order.\n",
        "\n",
        "- Save the output of `get_boxes` function in 3 variables: **v_boxes**, **v_labels**, **v_scores**"
      ]
    },
    {
      "cell_type": "code",
      "metadata": {
        "id": "Lnl5E5C10awF"
      },
      "source": [
        "def get_details(boxes, labels, class_threshold):\n",
        "    v_boxes, v_labels, v_scores = get_boxes(boxes, labels, class_threshold) # code to get details of the detected objects using get_boxes function here.\n",
        "\n",
        "    return v_boxes, v_labels, v_scores"
      ],
      "execution_count": 56,
      "outputs": []
    },
    {
      "cell_type": "code",
      "metadata": {
        "id": "0SzRPc0RRs5Q"
      },
      "source": [
        "v_boxes, v_labels, v_scores = get_details(boxes, labels, class_threshold)"
      ],
      "execution_count": 57,
      "outputs": []
    },
    {
      "cell_type": "code",
      "metadata": {
        "id": "yLrIum3eRpQK",
        "colab": {
          "base_uri": "https://localhost:8080/"
        },
        "outputId": "4bebdd50-e4e9-4845-c78b-bb2d04833cc4"
      },
      "source": [
        "# Summarize what we found\n",
        "for i in range(len(v_boxes)):\n",
        "\tprint(v_labels[i], v_scores[i])"
      ],
      "execution_count": 58,
      "outputs": [
        {
          "output_type": "stream",
          "text": [
            "horse 99.74808692932129\n",
            "dog 99.17163252830505\n",
            "person 99.9962568283081\n"
          ],
          "name": "stdout"
        }
      ]
    },
    {
      "cell_type": "markdown",
      "metadata": {
        "id": "ie7WM-1S0wS8"
      },
      "source": [
        "### Drawing the Object Detection Results\n",
        "\n",
        "- Use `draw_boxes` function to draw the results.\n",
        "\n",
        "  - Pass **photo_filename**, **v_boxes**, **v_labels**, **v_scores** as input parameters to the above function, in this order."
      ]
    },
    {
      "cell_type": "code",
      "metadata": {
        "id": "INOf95hN0uKy"
      },
      "source": [
        "def draw_results(photo_filename, v_boxes, v_labels, v_scores):\n",
        "    # code to draw results using draw_boxes function here.\n",
        "    draw_boxes(photo_filename, v_boxes, v_labels, v_scores)"
      ],
      "execution_count": 59,
      "outputs": []
    },
    {
      "cell_type": "code",
      "metadata": {
        "id": "csztfaYLRpSv",
        "colab": {
          "base_uri": "https://localhost:8080/",
          "height": 269
        },
        "outputId": "dfc21b21-d94d-484d-b739-81e859e0640b"
      },
      "source": [
        "draw_results(photo_filename, v_boxes, v_labels, v_scores)"
      ],
      "execution_count": 60,
      "outputs": [
        {
          "output_type": "display_data",
          "data": {
            "image/png": "[encoded data removed]",
            "text/plain": [
              "<Figure size 432x288 with 1 Axes>"
            ]
          },
          "metadata": {
            "tags": [],
            "needs_background": "light"
          }
        }
      ]
    },
    {
      "cell_type": "markdown",
      "metadata": {
        "id": "IdXZbeQ63Kxf"
      },
      "source": [
        "- This concludes the result of Object Detection using YOLOV3 model"
      ]
    }
  ]
}